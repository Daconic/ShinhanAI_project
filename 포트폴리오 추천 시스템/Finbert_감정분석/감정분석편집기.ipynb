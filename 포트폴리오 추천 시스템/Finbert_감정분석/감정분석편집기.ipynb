{
 "cells": [
  {
   "cell_type": "code",
   "execution_count": 1,
   "metadata": {},
   "outputs": [],
   "source": [
    "import pandas as pd\n",
    "import numpy as np\n",
    "import koreanize_matplotlib\n",
    "import FinanceDataReader as fdr\n",
    "\n"
   ]
  },
  {
   "cell_type": "code",
   "execution_count": 2,
   "metadata": {},
   "outputs": [],
   "source": [
    "top30_name = fdr.StockListing('KOSPI')[:30]['Name']\n",
    "\n",
    "top30_name = top30_name[1:]\n",
    "\n"
   ]
  },
  {
   "cell_type": "code",
   "execution_count": 5,
   "metadata": {},
   "outputs": [],
   "source": [
    "for name in top30_name :\n",
    "\n",
    "    date_range = pd.date_range(start='2022-06-10', end='2023-05-05', freq='D')\n",
    "\n",
    "    # 빈 데이터프레임 생성\n",
    "    df = pd.DataFrame(index=date_range)\n",
    "\n",
    "    # 인덱스에서 연월일만 표시되게 변환\n",
    "    df.index = df.index.strftime('%Y-%m-%d')\n",
    "\n",
    "\n",
    "    temp = pd.read_csv(f'data/{name}_감정점수.csv', index_col='날짜')\n",
    "    df['감정상태'] = temp['감정상태']\n",
    "    df.fillna(method='ffill', inplace=True)\n",
    "    df = df.rename_axis('날짜')\n",
    "    df.to_csv(f'{name}_감정점수.csv')\n",
    "\n",
    "\n"
   ]
  },
  {
   "cell_type": "code",
   "execution_count": null,
   "metadata": {},
   "outputs": [],
   "source": []
  }
 ],
 "metadata": {
  "kernelspec": {
   "display_name": "base",
   "language": "python",
   "name": "python3"
  },
  "language_info": {
   "codemirror_mode": {
    "name": "ipython",
    "version": 3
   },
   "file_extension": ".py",
   "mimetype": "text/x-python",
   "name": "python",
   "nbconvert_exporter": "python",
   "pygments_lexer": "ipython3",
   "version": "3.9.12"
  },
  "orig_nbformat": 4
 },
 "nbformat": 4,
 "nbformat_minor": 2
}
