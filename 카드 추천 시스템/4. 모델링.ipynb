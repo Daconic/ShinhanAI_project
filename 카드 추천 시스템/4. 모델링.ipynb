{
 "cells": [
  {
   "cell_type": "code",
   "execution_count": 1,
   "id": "1e083360",
   "metadata": {},
   "outputs": [
    {
     "data": {
      "text/plain": [
       "((10000, 42), (52, 20))"
      ]
     },
     "execution_count": 1,
     "metadata": {},
     "output_type": "execute_result"
    }
   ],
   "source": [
    "import pandas as pd\n",
    "df_user = pd.read_csv('fakedata.csv')\n",
    "df_card = pd.read_csv('card.csv')\n",
    "\n",
    "df_user.shape, df_card.shape"
   ]
  },
  {
   "cell_type": "code",
   "execution_count": 2,
   "id": "33dcd537",
   "metadata": {},
   "outputs": [
    {
     "data": {
      "text/plain": [
       "1    12\n",
       "6     9\n",
       "2     7\n",
       "3     7\n",
       "7     6\n",
       "0     6\n",
       "4     4\n",
       "5     1\n",
       "Name: Cluster, dtype: int64"
      ]
     },
     "execution_count": 2,
     "metadata": {},
     "output_type": "execute_result"
    }
   ],
   "source": [
    "df_card['Cluster'].value_counts()"
   ]
  },
  {
   "cell_type": "code",
   "execution_count": 3,
   "id": "bba8ac71",
   "metadata": {},
   "outputs": [],
   "source": [
    "import random\n",
    "\n",
    "card_num = []\n",
    "for _ in range(10000):\n",
    "    num = random.randint(0, 7)\n",
    "    card_num.append(num)\n",
    "    \n",
    "df_user['card'] = card_num"
   ]
  },
  {
   "cell_type": "code",
   "execution_count": 4,
   "id": "77318bad",
   "metadata": {},
   "outputs": [
    {
     "data": {
      "text/html": [
       "<div>\n",
       "<style scoped>\n",
       "    .dataframe tbody tr th:only-of-type {\n",
       "        vertical-align: middle;\n",
       "    }\n",
       "\n",
       "    .dataframe tbody tr th {\n",
       "        vertical-align: top;\n",
       "    }\n",
       "\n",
       "    .dataframe thead th {\n",
       "        text-align: right;\n",
       "    }\n",
       "</style>\n",
       "<table border=\"1\" class=\"dataframe\">\n",
       "  <thead>\n",
       "    <tr style=\"text-align: right;\">\n",
       "      <th></th>\n",
       "      <th>이름</th>\n",
       "      <th>고유번호</th>\n",
       "      <th>관심사</th>\n",
       "      <th>나이</th>\n",
       "      <th>성별</th>\n",
       "      <th>혜택</th>\n",
       "      <th>교통비</th>\n",
       "      <th>교통횟수</th>\n",
       "      <th>교통총비용</th>\n",
       "      <th>편의점비</th>\n",
       "      <th>...</th>\n",
       "      <th>야구비</th>\n",
       "      <th>야구횟수</th>\n",
       "      <th>야구총비용</th>\n",
       "      <th>놀이공원/공연비</th>\n",
       "      <th>놀이공원/공연횟수</th>\n",
       "      <th>놀이공원/공연총비용</th>\n",
       "      <th>통신비</th>\n",
       "      <th>통신횟수</th>\n",
       "      <th>통신총비용</th>\n",
       "      <th>card</th>\n",
       "    </tr>\n",
       "  </thead>\n",
       "  <tbody>\n",
       "    <tr>\n",
       "      <th>0</th>\n",
       "      <td>서성수</td>\n",
       "      <td>a00001</td>\n",
       "      <td>쇼핑</td>\n",
       "      <td>19</td>\n",
       "      <td>여</td>\n",
       "      <td>넷플릭스</td>\n",
       "      <td>500</td>\n",
       "      <td>10</td>\n",
       "      <td>5000</td>\n",
       "      <td>24500</td>\n",
       "      <td>...</td>\n",
       "      <td>15600</td>\n",
       "      <td>2</td>\n",
       "      <td>31200</td>\n",
       "      <td>33600</td>\n",
       "      <td>1</td>\n",
       "      <td>33600</td>\n",
       "      <td>45500</td>\n",
       "      <td>1</td>\n",
       "      <td>45500</td>\n",
       "      <td>2</td>\n",
       "    </tr>\n",
       "    <tr>\n",
       "      <th>1</th>\n",
       "      <td>박은서</td>\n",
       "      <td>a00002</td>\n",
       "      <td>카페</td>\n",
       "      <td>14</td>\n",
       "      <td>남</td>\n",
       "      <td>영화관람</td>\n",
       "      <td>600</td>\n",
       "      <td>19</td>\n",
       "      <td>11400</td>\n",
       "      <td>21600</td>\n",
       "      <td>...</td>\n",
       "      <td>10800</td>\n",
       "      <td>1</td>\n",
       "      <td>10800</td>\n",
       "      <td>30600</td>\n",
       "      <td>0</td>\n",
       "      <td>0</td>\n",
       "      <td>33000</td>\n",
       "      <td>1</td>\n",
       "      <td>33000</td>\n",
       "      <td>6</td>\n",
       "    </tr>\n",
       "    <tr>\n",
       "      <th>2</th>\n",
       "      <td>안영수</td>\n",
       "      <td>a00003</td>\n",
       "      <td>여행</td>\n",
       "      <td>12</td>\n",
       "      <td>여</td>\n",
       "      <td>영화관람</td>\n",
       "      <td>600</td>\n",
       "      <td>46</td>\n",
       "      <td>27600</td>\n",
       "      <td>43100</td>\n",
       "      <td>...</td>\n",
       "      <td>24700</td>\n",
       "      <td>1</td>\n",
       "      <td>24700</td>\n",
       "      <td>46200</td>\n",
       "      <td>0</td>\n",
       "      <td>0</td>\n",
       "      <td>58900</td>\n",
       "      <td>1</td>\n",
       "      <td>58900</td>\n",
       "      <td>4</td>\n",
       "    </tr>\n",
       "    <tr>\n",
       "      <th>3</th>\n",
       "      <td>이정희</td>\n",
       "      <td>a00004</td>\n",
       "      <td>게임</td>\n",
       "      <td>8</td>\n",
       "      <td>여</td>\n",
       "      <td>야구</td>\n",
       "      <td>300</td>\n",
       "      <td>60</td>\n",
       "      <td>18000</td>\n",
       "      <td>33700</td>\n",
       "      <td>...</td>\n",
       "      <td>18300</td>\n",
       "      <td>2</td>\n",
       "      <td>36600</td>\n",
       "      <td>32600</td>\n",
       "      <td>1</td>\n",
       "      <td>32600</td>\n",
       "      <td>17500</td>\n",
       "      <td>1</td>\n",
       "      <td>17500</td>\n",
       "      <td>0</td>\n",
       "    </tr>\n",
       "    <tr>\n",
       "      <th>4</th>\n",
       "      <td>서유진</td>\n",
       "      <td>a00005</td>\n",
       "      <td>패션</td>\n",
       "      <td>19</td>\n",
       "      <td>여</td>\n",
       "      <td>통신비</td>\n",
       "      <td>700</td>\n",
       "      <td>32</td>\n",
       "      <td>22400</td>\n",
       "      <td>32200</td>\n",
       "      <td>...</td>\n",
       "      <td>11200</td>\n",
       "      <td>2</td>\n",
       "      <td>22400</td>\n",
       "      <td>30800</td>\n",
       "      <td>1</td>\n",
       "      <td>30800</td>\n",
       "      <td>32000</td>\n",
       "      <td>1</td>\n",
       "      <td>32000</td>\n",
       "      <td>6</td>\n",
       "    </tr>\n",
       "  </tbody>\n",
       "</table>\n",
       "<p>5 rows × 43 columns</p>\n",
       "</div>"
      ],
      "text/plain": [
       "    이름    고유번호 관심사  나이 성별    혜택  교통비  교통횟수  교통총비용   편의점비  ...    야구비  야구횟수  \\\n",
       "0  서성수  a00001  쇼핑  19  여  넷플릭스  500    10   5000  24500  ...  15600     2   \n",
       "1  박은서  a00002  카페  14  남  영화관람  600    19  11400  21600  ...  10800     1   \n",
       "2  안영수  a00003  여행  12  여  영화관람  600    46  27600  43100  ...  24700     1   \n",
       "3  이정희  a00004  게임   8  여    야구  300    60  18000  33700  ...  18300     2   \n",
       "4  서유진  a00005  패션  19  여   통신비  700    32  22400  32200  ...  11200     2   \n",
       "\n",
       "   야구총비용  놀이공원/공연비  놀이공원/공연횟수  놀이공원/공연총비용    통신비  통신횟수  통신총비용  card  \n",
       "0  31200     33600          1       33600  45500     1  45500     2  \n",
       "1  10800     30600          0           0  33000     1  33000     6  \n",
       "2  24700     46200          0           0  58900     1  58900     4  \n",
       "3  36600     32600          1       32600  17500     1  17500     0  \n",
       "4  22400     30800          1       30800  32000     1  32000     6  \n",
       "\n",
       "[5 rows x 43 columns]"
      ]
     },
     "execution_count": 4,
     "metadata": {},
     "output_type": "execute_result"
    }
   ],
   "source": [
    "df_user.head()"
   ]
  },
  {
   "cell_type": "code",
   "execution_count": 5,
   "id": "9cceb3b4",
   "metadata": {},
   "outputs": [],
   "source": [
    "# df_user.to_csv('total.csv', index=False)"
   ]
  },
  {
   "cell_type": "code",
   "execution_count": 6,
   "id": "cdcfcff0",
   "metadata": {},
   "outputs": [],
   "source": [
    "# eda?"
   ]
  },
  {
   "cell_type": "code",
   "execution_count": 7,
   "id": "c8273201",
   "metadata": {},
   "outputs": [
    {
     "data": {
      "text/plain": [
       "(영화관람    874\n",
       " 야구      856\n",
       " 배달      847\n",
       " 통신비     839\n",
       " 넷플릭스    835\n",
       " 대중교통    834\n",
       " 뷰티      833\n",
       " 편의점     824\n",
       " 쇼핑      822\n",
       " 놀이동산    818\n",
       " 카페      810\n",
       " 도서      808\n",
       " Name: 혜택, dtype: int64,\n",
       " 스포츠     1163\n",
       " 여행      1145\n",
       " 도서      1135\n",
       " 뷰티      1124\n",
       " 카페      1109\n",
       " 게임      1104\n",
       " 영화관람    1096\n",
       " 쇼핑      1069\n",
       " 패션      1055\n",
       " Name: 관심사, dtype: int64)"
      ]
     },
     "execution_count": 7,
     "metadata": {},
     "output_type": "execute_result"
    }
   ],
   "source": [
    "df_user['혜택'].value_counts(), df_user['관심사'].value_counts()"
   ]
  },
  {
   "cell_type": "code",
   "execution_count": 8,
   "id": "69afc9bb",
   "metadata": {},
   "outputs": [],
   "source": [
    "df_user['혜택'] = df_user['혜택'].astype('category')\n",
    "df_user['관심사'] = df_user['관심사'].astype('category')\n",
    "\n",
    "# df_user['card'] = df_user['card'].astype('object')"
   ]
  },
  {
   "cell_type": "code",
   "execution_count": 9,
   "id": "1d196765",
   "metadata": {},
   "outputs": [
    {
     "data": {
      "text/plain": [
       "Index(['이름', '고유번호', '관심사', '나이', '성별', '혜택', '교통비', '교통횟수', '교통총비용', '편의점비',\n",
       "       '편의점횟수', '편의점총비용', '배달비', '배달횟수', '배달총비용', '카페비', '카페횟수', '카페총비용',\n",
       "       'ott비', 'ott횟수', 'ott총비용', '영화비', '영화횟수', '영화총비용', '쇼핑비', '쇼핑횟수',\n",
       "       '쇼핑총비용', '도서비', '도서횟수', '도서총비용', '뷰티비', '뷰티횟수', '뷰티총비용', '야구비', '야구횟수',\n",
       "       '야구총비용', '놀이공원/공연비', '놀이공원/공연횟수', '놀이공원/공연총비용', '통신비', '통신횟수', '통신총비용',\n",
       "       'card'],\n",
       "      dtype='object')"
      ]
     },
     "execution_count": 9,
     "metadata": {},
     "output_type": "execute_result"
    }
   ],
   "source": [
    "# LightGBM과 CatBoost는 pandas의 category 타입 가능\n",
    "# XGBoost는 오직 numeric 데이터 타입만 가능 → XGBoost에서는 category 변수들을 따로 전처리 해줘야 함 예) 원핫인코딩, 레이블인코딩\n",
    "\n",
    "df_user.columns"
   ]
  },
  {
   "cell_type": "code",
   "execution_count": 10,
   "id": "1af3fceb",
   "metadata": {},
   "outputs": [
    {
     "data": {
      "text/html": [
       "<div>\n",
       "<style scoped>\n",
       "    .dataframe tbody tr th:only-of-type {\n",
       "        vertical-align: middle;\n",
       "    }\n",
       "\n",
       "    .dataframe tbody tr th {\n",
       "        vertical-align: top;\n",
       "    }\n",
       "\n",
       "    .dataframe thead th {\n",
       "        text-align: right;\n",
       "    }\n",
       "</style>\n",
       "<table border=\"1\" class=\"dataframe\">\n",
       "  <thead>\n",
       "    <tr style=\"text-align: right;\">\n",
       "      <th></th>\n",
       "      <th>이름</th>\n",
       "      <th>고유번호</th>\n",
       "      <th>관심사</th>\n",
       "      <th>나이</th>\n",
       "      <th>혜택</th>\n",
       "      <th>교통총비용</th>\n",
       "      <th>편의점총비용</th>\n",
       "      <th>배달총비용</th>\n",
       "      <th>카페총비용</th>\n",
       "      <th>ott총비용</th>\n",
       "      <th>영화총비용</th>\n",
       "      <th>쇼핑총비용</th>\n",
       "      <th>도서총비용</th>\n",
       "      <th>뷰티총비용</th>\n",
       "      <th>야구총비용</th>\n",
       "      <th>놀이공원/공연총비용</th>\n",
       "      <th>통신총비용</th>\n",
       "      <th>card</th>\n",
       "    </tr>\n",
       "  </thead>\n",
       "  <tbody>\n",
       "    <tr>\n",
       "      <th>0</th>\n",
       "      <td>서성수</td>\n",
       "      <td>a00001</td>\n",
       "      <td>쇼핑</td>\n",
       "      <td>19</td>\n",
       "      <td>넷플릭스</td>\n",
       "      <td>5000</td>\n",
       "      <td>539000</td>\n",
       "      <td>174300</td>\n",
       "      <td>118000</td>\n",
       "      <td>4400</td>\n",
       "      <td>69300</td>\n",
       "      <td>87800</td>\n",
       "      <td>24000</td>\n",
       "      <td>192500</td>\n",
       "      <td>31200</td>\n",
       "      <td>33600</td>\n",
       "      <td>45500</td>\n",
       "      <td>2</td>\n",
       "    </tr>\n",
       "    <tr>\n",
       "      <th>1</th>\n",
       "      <td>박은서</td>\n",
       "      <td>a00002</td>\n",
       "      <td>카페</td>\n",
       "      <td>14</td>\n",
       "      <td>영화관람</td>\n",
       "      <td>11400</td>\n",
       "      <td>604800</td>\n",
       "      <td>36600</td>\n",
       "      <td>360000</td>\n",
       "      <td>17000</td>\n",
       "      <td>40500</td>\n",
       "      <td>14900</td>\n",
       "      <td>95500</td>\n",
       "      <td>47800</td>\n",
       "      <td>10800</td>\n",
       "      <td>0</td>\n",
       "      <td>33000</td>\n",
       "      <td>6</td>\n",
       "    </tr>\n",
       "    <tr>\n",
       "      <th>2</th>\n",
       "      <td>안영수</td>\n",
       "      <td>a00003</td>\n",
       "      <td>여행</td>\n",
       "      <td>12</td>\n",
       "      <td>영화관람</td>\n",
       "      <td>27600</td>\n",
       "      <td>301700</td>\n",
       "      <td>84500</td>\n",
       "      <td>54900</td>\n",
       "      <td>10800</td>\n",
       "      <td>40200</td>\n",
       "      <td>34900</td>\n",
       "      <td>25500</td>\n",
       "      <td>89500</td>\n",
       "      <td>24700</td>\n",
       "      <td>0</td>\n",
       "      <td>58900</td>\n",
       "      <td>4</td>\n",
       "    </tr>\n",
       "    <tr>\n",
       "      <th>3</th>\n",
       "      <td>이정희</td>\n",
       "      <td>a00004</td>\n",
       "      <td>게임</td>\n",
       "      <td>8</td>\n",
       "      <td>야구</td>\n",
       "      <td>18000</td>\n",
       "      <td>101100</td>\n",
       "      <td>226400</td>\n",
       "      <td>268600</td>\n",
       "      <td>28800</td>\n",
       "      <td>17000</td>\n",
       "      <td>29000</td>\n",
       "      <td>83700</td>\n",
       "      <td>41600</td>\n",
       "      <td>36600</td>\n",
       "      <td>32600</td>\n",
       "      <td>17500</td>\n",
       "      <td>0</td>\n",
       "    </tr>\n",
       "    <tr>\n",
       "      <th>4</th>\n",
       "      <td>서유진</td>\n",
       "      <td>a00005</td>\n",
       "      <td>패션</td>\n",
       "      <td>19</td>\n",
       "      <td>통신비</td>\n",
       "      <td>22400</td>\n",
       "      <td>289800</td>\n",
       "      <td>78900</td>\n",
       "      <td>187200</td>\n",
       "      <td>0</td>\n",
       "      <td>70200</td>\n",
       "      <td>221500</td>\n",
       "      <td>21300</td>\n",
       "      <td>189200</td>\n",
       "      <td>22400</td>\n",
       "      <td>30800</td>\n",
       "      <td>32000</td>\n",
       "      <td>6</td>\n",
       "    </tr>\n",
       "  </tbody>\n",
       "</table>\n",
       "</div>"
      ],
      "text/plain": [
       "    이름    고유번호 관심사  나이    혜택  교통총비용  편의점총비용   배달총비용   카페총비용  ott총비용  영화총비용  \\\n",
       "0  서성수  a00001  쇼핑  19  넷플릭스   5000  539000  174300  118000    4400  69300   \n",
       "1  박은서  a00002  카페  14  영화관람  11400  604800   36600  360000   17000  40500   \n",
       "2  안영수  a00003  여행  12  영화관람  27600  301700   84500   54900   10800  40200   \n",
       "3  이정희  a00004  게임   8    야구  18000  101100  226400  268600   28800  17000   \n",
       "4  서유진  a00005  패션  19   통신비  22400  289800   78900  187200       0  70200   \n",
       "\n",
       "    쇼핑총비용  도서총비용   뷰티총비용  야구총비용  놀이공원/공연총비용  통신총비용  card  \n",
       "0   87800  24000  192500  31200       33600  45500     2  \n",
       "1   14900  95500   47800  10800           0  33000     6  \n",
       "2   34900  25500   89500  24700           0  58900     4  \n",
       "3   29000  83700   41600  36600       32600  17500     0  \n",
       "4  221500  21300  189200  22400       30800  32000     6  "
      ]
     },
     "execution_count": 10,
     "metadata": {},
     "output_type": "execute_result"
    }
   ],
   "source": [
    "df_user = df_user[['이름', '고유번호', '관심사', '나이', '혜택', '교통총비용',\n",
    "                  '편의점총비용', '배달총비용', '카페총비용', 'ott총비용', \n",
    "                  '영화총비용', '쇼핑총비용', '도서총비용', '뷰티총비용',\n",
    "                  '야구총비용', '놀이공원/공연총비용', '통신총비용', 'card']]\n",
    "df_user.head()"
   ]
  },
  {
   "cell_type": "code",
   "execution_count": 11,
   "id": "6234f099",
   "metadata": {},
   "outputs": [
    {
     "name": "stdout",
     "output_type": "stream",
     "text": [
      "<class 'pandas.core.frame.DataFrame'>\n",
      "RangeIndex: 10000 entries, 0 to 9999\n",
      "Data columns (total 18 columns):\n",
      " #   Column      Non-Null Count  Dtype   \n",
      "---  ------      --------------  -----   \n",
      " 0   이름          10000 non-null  object  \n",
      " 1   고유번호        10000 non-null  object  \n",
      " 2   관심사         10000 non-null  category\n",
      " 3   나이          10000 non-null  int64   \n",
      " 4   혜택          10000 non-null  category\n",
      " 5   교통총비용       10000 non-null  int64   \n",
      " 6   편의점총비용      10000 non-null  int64   \n",
      " 7   배달총비용       10000 non-null  int64   \n",
      " 8   카페총비용       10000 non-null  int64   \n",
      " 9   ott총비용      10000 non-null  int64   \n",
      " 10  영화총비용       10000 non-null  int64   \n",
      " 11  쇼핑총비용       10000 non-null  int64   \n",
      " 12  도서총비용       10000 non-null  int64   \n",
      " 13  뷰티총비용       10000 non-null  int64   \n",
      " 14  야구총비용       10000 non-null  int64   \n",
      " 15  놀이공원/공연총비용  10000 non-null  int64   \n",
      " 16  통신총비용       10000 non-null  int64   \n",
      " 17  card        10000 non-null  int64   \n",
      "dtypes: category(2), int64(14), object(2)\n",
      "memory usage: 1.2+ MB\n"
     ]
    }
   ],
   "source": [
    "df_user.info()"
   ]
  },
  {
   "cell_type": "markdown",
   "id": "ff994e75",
   "metadata": {},
   "source": [
    "## 데이터 분할"
   ]
  },
  {
   "cell_type": "code",
   "execution_count": 12,
   "id": "7b2940a9",
   "metadata": {},
   "outputs": [
    {
     "data": {
      "text/plain": [
       "['관심사',\n",
       " '나이',\n",
       " '혜택',\n",
       " '교통총비용',\n",
       " '편의점총비용',\n",
       " '배달총비용',\n",
       " '카페총비용',\n",
       " 'ott총비용',\n",
       " '영화총비용',\n",
       " '쇼핑총비용',\n",
       " '도서총비용',\n",
       " '뷰티총비용',\n",
       " '야구총비용',\n",
       " '놀이공원/공연총비용',\n",
       " '통신총비용']"
      ]
     },
     "execution_count": 12,
     "metadata": {},
     "output_type": "execute_result"
    }
   ],
   "source": [
    "feature_names = df_user.columns.to_list()\n",
    "feature_names.remove('card')\n",
    "feature_names.remove('이름')\n",
    "feature_names.remove('고유번호')\n",
    "feature_names"
   ]
  },
  {
   "cell_type": "code",
   "execution_count": 13,
   "id": "4635aed5",
   "metadata": {},
   "outputs": [
    {
     "data": {
      "text/plain": [
       "((10000, 15), (10000,))"
      ]
     },
     "execution_count": 13,
     "metadata": {},
     "output_type": "execute_result"
    }
   ],
   "source": [
    "label_name = 'card'\n",
    "\n",
    "X = df_user[feature_names] # 전체 데이터 1000개\n",
    "y = df_user[label_name]\n",
    "\n",
    "X.shape, y.shape"
   ]
  },
  {
   "cell_type": "code",
   "execution_count": 14,
   "id": "dc78ac34",
   "metadata": {},
   "outputs": [
    {
     "data": {
      "text/plain": [
       "((8000, 15), (2000, 15), (8000,), (2000,))"
      ]
     },
     "execution_count": 14,
     "metadata": {},
     "output_type": "execute_result"
    }
   ],
   "source": [
    "from sklearn.model_selection import train_test_split\n",
    "\n",
    "X_train, X_test, y_train, y_test = train_test_split(X, y, test_size=0.2, \n",
    "                                                    random_state=42, stratify=y)\n",
    "\n",
    "X_train.shape, X_test.shape, y_train.shape, y_test.shape"
   ]
  },
  {
   "cell_type": "code",
   "execution_count": 15,
   "id": "19810364",
   "metadata": {},
   "outputs": [
    {
     "data": {
      "text/plain": [
       "2    1043\n",
       "4    1011\n",
       "3    1005\n",
       "1     998\n",
       "0     995\n",
       "5     989\n",
       "6     986\n",
       "7     973\n",
       "Name: card, dtype: int64"
      ]
     },
     "execution_count": 15,
     "metadata": {},
     "output_type": "execute_result"
    }
   ],
   "source": [
    "y_train.value_counts()"
   ]
  },
  {
   "cell_type": "code",
   "execution_count": 16,
   "id": "14c6b707",
   "metadata": {},
   "outputs": [],
   "source": [
    "## 분류\n",
    "num_classes = 8"
   ]
  },
  {
   "cell_type": "code",
   "execution_count": 17,
   "id": "24603e90",
   "metadata": {},
   "outputs": [
    {
     "data": {
      "text/html": [
       "<style>#sk-container-id-1 {color: black;background-color: white;}#sk-container-id-1 pre{padding: 0;}#sk-container-id-1 div.sk-toggleable {background-color: white;}#sk-container-id-1 label.sk-toggleable__label {cursor: pointer;display: block;width: 100%;margin-bottom: 0;padding: 0.3em;box-sizing: border-box;text-align: center;}#sk-container-id-1 label.sk-toggleable__label-arrow:before {content: \"▸\";float: left;margin-right: 0.25em;color: #696969;}#sk-container-id-1 label.sk-toggleable__label-arrow:hover:before {color: black;}#sk-container-id-1 div.sk-estimator:hover label.sk-toggleable__label-arrow:before {color: black;}#sk-container-id-1 div.sk-toggleable__content {max-height: 0;max-width: 0;overflow: hidden;text-align: left;background-color: #f0f8ff;}#sk-container-id-1 div.sk-toggleable__content pre {margin: 0.2em;color: black;border-radius: 0.25em;background-color: #f0f8ff;}#sk-container-id-1 input.sk-toggleable__control:checked~div.sk-toggleable__content {max-height: 200px;max-width: 100%;overflow: auto;}#sk-container-id-1 input.sk-toggleable__control:checked~label.sk-toggleable__label-arrow:before {content: \"▾\";}#sk-container-id-1 div.sk-estimator input.sk-toggleable__control:checked~label.sk-toggleable__label {background-color: #d4ebff;}#sk-container-id-1 div.sk-label input.sk-toggleable__control:checked~label.sk-toggleable__label {background-color: #d4ebff;}#sk-container-id-1 input.sk-hidden--visually {border: 0;clip: rect(1px 1px 1px 1px);clip: rect(1px, 1px, 1px, 1px);height: 1px;margin: -1px;overflow: hidden;padding: 0;position: absolute;width: 1px;}#sk-container-id-1 div.sk-estimator {font-family: monospace;background-color: #f0f8ff;border: 1px dotted black;border-radius: 0.25em;box-sizing: border-box;margin-bottom: 0.5em;}#sk-container-id-1 div.sk-estimator:hover {background-color: #d4ebff;}#sk-container-id-1 div.sk-parallel-item::after {content: \"\";width: 100%;border-bottom: 1px solid gray;flex-grow: 1;}#sk-container-id-1 div.sk-label:hover label.sk-toggleable__label {background-color: #d4ebff;}#sk-container-id-1 div.sk-serial::before {content: \"\";position: absolute;border-left: 1px solid gray;box-sizing: border-box;top: 0;bottom: 0;left: 50%;z-index: 0;}#sk-container-id-1 div.sk-serial {display: flex;flex-direction: column;align-items: center;background-color: white;padding-right: 0.2em;padding-left: 0.2em;position: relative;}#sk-container-id-1 div.sk-item {position: relative;z-index: 1;}#sk-container-id-1 div.sk-parallel {display: flex;align-items: stretch;justify-content: center;background-color: white;position: relative;}#sk-container-id-1 div.sk-item::before, #sk-container-id-1 div.sk-parallel-item::before {content: \"\";position: absolute;border-left: 1px solid gray;box-sizing: border-box;top: 0;bottom: 0;left: 50%;z-index: -1;}#sk-container-id-1 div.sk-parallel-item {display: flex;flex-direction: column;z-index: 1;position: relative;background-color: white;}#sk-container-id-1 div.sk-parallel-item:first-child::after {align-self: flex-end;width: 50%;}#sk-container-id-1 div.sk-parallel-item:last-child::after {align-self: flex-start;width: 50%;}#sk-container-id-1 div.sk-parallel-item:only-child::after {width: 0;}#sk-container-id-1 div.sk-dashed-wrapped {border: 1px dashed gray;margin: 0 0.4em 0.5em 0.4em;box-sizing: border-box;padding-bottom: 0.4em;background-color: white;}#sk-container-id-1 div.sk-label label {font-family: monospace;font-weight: bold;display: inline-block;line-height: 1.2em;}#sk-container-id-1 div.sk-label-container {text-align: center;}#sk-container-id-1 div.sk-container {/* jupyter's `normalize.less` sets `[hidden] { display: none; }` but bootstrap.min.css set `[hidden] { display: none !important; }` so we also need the `!important` here to be able to override the default hidden behavior on the sphinx rendered scikit-learn.org. See: https://github.com/scikit-learn/scikit-learn/issues/21755 */display: inline-block !important;position: relative;}#sk-container-id-1 div.sk-text-repr-fallback {display: none;}</style><div id=\"sk-container-id-1\" class=\"sk-top-container\"><div class=\"sk-text-repr-fallback\"><pre>LGBMClassifier(num_class=8, objective=&#x27;multiclass&#x27;, random_state=42)</pre><b>In a Jupyter environment, please rerun this cell to show the HTML representation or trust the notebook. <br />On GitHub, the HTML representation is unable to render, please try loading this page with nbviewer.org.</b></div><div class=\"sk-container\" hidden><div class=\"sk-item\"><div class=\"sk-estimator sk-toggleable\"><input class=\"sk-toggleable__control sk-hidden--visually\" id=\"sk-estimator-id-1\" type=\"checkbox\" checked><label for=\"sk-estimator-id-1\" class=\"sk-toggleable__label sk-toggleable__label-arrow\">LGBMClassifier</label><div class=\"sk-toggleable__content\"><pre>LGBMClassifier(num_class=8, objective=&#x27;multiclass&#x27;, random_state=42)</pre></div></div></div></div></div>"
      ],
      "text/plain": [
       "LGBMClassifier(num_class=8, objective='multiclass', random_state=42)"
      ]
     },
     "execution_count": 17,
     "metadata": {},
     "output_type": "execute_result"
    }
   ],
   "source": [
    "import lightgbm as lgbm\n",
    "import numpy as np\n",
    "\n",
    "model = lgbm.LGBMClassifier(random_state=42, n_jobs=-1, num_class=num_classes, objective='multiclass')\n",
    "model"
   ]
  },
  {
   "cell_type": "code",
   "execution_count": 18,
   "id": "e9ec8f61",
   "metadata": {},
   "outputs": [
    {
     "data": {
      "text/plain": [
       "array([39, 39, 12, 20, 27, 35, 41, 44, 37, 39])"
      ]
     },
     "execution_count": 18,
     "metadata": {},
     "output_type": "execute_result"
    }
   ],
   "source": [
    "n_estimators = np.random.randint(10, 50, 10)\n",
    "n_estimators"
   ]
  },
  {
   "cell_type": "code",
   "execution_count": 19,
   "id": "a982eacb",
   "metadata": {},
   "outputs": [
    {
     "data": {
      "text/plain": [
       "array([0.12705748, 0.1619895 , 0.11360597, 0.02816598, 0.04930031,\n",
       "       0.08390758, 0.09688895, 0.19666677, 0.05512685, 0.05266037])"
      ]
     },
     "execution_count": 19,
     "metadata": {},
     "output_type": "execute_result"
    }
   ],
   "source": [
    "learning_rate = np.random.uniform(0.01, 0.2, 10)\n",
    "learning_rate"
   ]
  },
  {
   "cell_type": "code",
   "execution_count": 20,
   "id": "16614993",
   "metadata": {},
   "outputs": [
    {
     "data": {
      "text/plain": [
       "array([ 8, 11, 18,  6,  8])"
      ]
     },
     "execution_count": 20,
     "metadata": {},
     "output_type": "execute_result"
    }
   ],
   "source": [
    "max_depth = np.random.randint(3, 20, 5)\n",
    "max_depth"
   ]
  },
  {
   "cell_type": "code",
   "execution_count": 21,
   "id": "5eadb886",
   "metadata": {},
   "outputs": [
    {
     "data": {
      "text/plain": [
       "{'n_estimators': array([39, 39, 12, 20, 27, 35, 41, 44, 37, 39]),\n",
       " 'learning_rate': array([0.12705748, 0.1619895 , 0.11360597, 0.02816598, 0.04930031,\n",
       "        0.08390758, 0.09688895, 0.19666677, 0.05512685, 0.05266037]),\n",
       " 'max_depth': array([ 8, 11, 18,  6,  8])}"
      ]
     },
     "execution_count": 21,
     "metadata": {},
     "output_type": "execute_result"
    }
   ],
   "source": [
    "params = {'n_estimators': n_estimators,\n",
    "          'learning_rate': learning_rate,\n",
    "          'max_depth': max_depth}\n",
    "params"
   ]
  },
  {
   "cell_type": "code",
   "execution_count": 22,
   "id": "5a9d98d0",
   "metadata": {},
   "outputs": [
    {
     "data": {
      "text/html": [
       "<style>#sk-container-id-2 {color: black;background-color: white;}#sk-container-id-2 pre{padding: 0;}#sk-container-id-2 div.sk-toggleable {background-color: white;}#sk-container-id-2 label.sk-toggleable__label {cursor: pointer;display: block;width: 100%;margin-bottom: 0;padding: 0.3em;box-sizing: border-box;text-align: center;}#sk-container-id-2 label.sk-toggleable__label-arrow:before {content: \"▸\";float: left;margin-right: 0.25em;color: #696969;}#sk-container-id-2 label.sk-toggleable__label-arrow:hover:before {color: black;}#sk-container-id-2 div.sk-estimator:hover label.sk-toggleable__label-arrow:before {color: black;}#sk-container-id-2 div.sk-toggleable__content {max-height: 0;max-width: 0;overflow: hidden;text-align: left;background-color: #f0f8ff;}#sk-container-id-2 div.sk-toggleable__content pre {margin: 0.2em;color: black;border-radius: 0.25em;background-color: #f0f8ff;}#sk-container-id-2 input.sk-toggleable__control:checked~div.sk-toggleable__content {max-height: 200px;max-width: 100%;overflow: auto;}#sk-container-id-2 input.sk-toggleable__control:checked~label.sk-toggleable__label-arrow:before {content: \"▾\";}#sk-container-id-2 div.sk-estimator input.sk-toggleable__control:checked~label.sk-toggleable__label {background-color: #d4ebff;}#sk-container-id-2 div.sk-label input.sk-toggleable__control:checked~label.sk-toggleable__label {background-color: #d4ebff;}#sk-container-id-2 input.sk-hidden--visually {border: 0;clip: rect(1px 1px 1px 1px);clip: rect(1px, 1px, 1px, 1px);height: 1px;margin: -1px;overflow: hidden;padding: 0;position: absolute;width: 1px;}#sk-container-id-2 div.sk-estimator {font-family: monospace;background-color: #f0f8ff;border: 1px dotted black;border-radius: 0.25em;box-sizing: border-box;margin-bottom: 0.5em;}#sk-container-id-2 div.sk-estimator:hover {background-color: #d4ebff;}#sk-container-id-2 div.sk-parallel-item::after {content: \"\";width: 100%;border-bottom: 1px solid gray;flex-grow: 1;}#sk-container-id-2 div.sk-label:hover label.sk-toggleable__label {background-color: #d4ebff;}#sk-container-id-2 div.sk-serial::before {content: \"\";position: absolute;border-left: 1px solid gray;box-sizing: border-box;top: 0;bottom: 0;left: 50%;z-index: 0;}#sk-container-id-2 div.sk-serial {display: flex;flex-direction: column;align-items: center;background-color: white;padding-right: 0.2em;padding-left: 0.2em;position: relative;}#sk-container-id-2 div.sk-item {position: relative;z-index: 1;}#sk-container-id-2 div.sk-parallel {display: flex;align-items: stretch;justify-content: center;background-color: white;position: relative;}#sk-container-id-2 div.sk-item::before, #sk-container-id-2 div.sk-parallel-item::before {content: \"\";position: absolute;border-left: 1px solid gray;box-sizing: border-box;top: 0;bottom: 0;left: 50%;z-index: -1;}#sk-container-id-2 div.sk-parallel-item {display: flex;flex-direction: column;z-index: 1;position: relative;background-color: white;}#sk-container-id-2 div.sk-parallel-item:first-child::after {align-self: flex-end;width: 50%;}#sk-container-id-2 div.sk-parallel-item:last-child::after {align-self: flex-start;width: 50%;}#sk-container-id-2 div.sk-parallel-item:only-child::after {width: 0;}#sk-container-id-2 div.sk-dashed-wrapped {border: 1px dashed gray;margin: 0 0.4em 0.5em 0.4em;box-sizing: border-box;padding-bottom: 0.4em;background-color: white;}#sk-container-id-2 div.sk-label label {font-family: monospace;font-weight: bold;display: inline-block;line-height: 1.2em;}#sk-container-id-2 div.sk-label-container {text-align: center;}#sk-container-id-2 div.sk-container {/* jupyter's `normalize.less` sets `[hidden] { display: none; }` but bootstrap.min.css set `[hidden] { display: none !important; }` so we also need the `!important` here to be able to override the default hidden behavior on the sphinx rendered scikit-learn.org. See: https://github.com/scikit-learn/scikit-learn/issues/21755 */display: inline-block !important;position: relative;}#sk-container-id-2 div.sk-text-repr-fallback {display: none;}</style><div id=\"sk-container-id-2\" class=\"sk-top-container\"><div class=\"sk-text-repr-fallback\"><pre>RandomizedSearchCV(cv=5,\n",
       "                   estimator=LGBMClassifier(num_class=8, objective=&#x27;multiclass&#x27;,\n",
       "                                            random_state=42),\n",
       "                   param_distributions={&#x27;learning_rate&#x27;: array([0.12705748, 0.1619895 , 0.11360597, 0.02816598, 0.04930031,\n",
       "       0.08390758, 0.09688895, 0.19666677, 0.05512685, 0.05266037]),\n",
       "                                        &#x27;max_depth&#x27;: array([ 8, 11, 18,  6,  8]),\n",
       "                                        &#x27;n_estimators&#x27;: array([39, 39, 12, 20, 27, 35, 41, 44, 37, 39])},\n",
       "                   scoring=&#x27;accuracy&#x27;)</pre><b>In a Jupyter environment, please rerun this cell to show the HTML representation or trust the notebook. <br />On GitHub, the HTML representation is unable to render, please try loading this page with nbviewer.org.</b></div><div class=\"sk-container\" hidden><div class=\"sk-item sk-dashed-wrapped\"><div class=\"sk-label-container\"><div class=\"sk-label sk-toggleable\"><input class=\"sk-toggleable__control sk-hidden--visually\" id=\"sk-estimator-id-2\" type=\"checkbox\" ><label for=\"sk-estimator-id-2\" class=\"sk-toggleable__label sk-toggleable__label-arrow\">RandomizedSearchCV</label><div class=\"sk-toggleable__content\"><pre>RandomizedSearchCV(cv=5,\n",
       "                   estimator=LGBMClassifier(num_class=8, objective=&#x27;multiclass&#x27;,\n",
       "                                            random_state=42),\n",
       "                   param_distributions={&#x27;learning_rate&#x27;: array([0.12705748, 0.1619895 , 0.11360597, 0.02816598, 0.04930031,\n",
       "       0.08390758, 0.09688895, 0.19666677, 0.05512685, 0.05266037]),\n",
       "                                        &#x27;max_depth&#x27;: array([ 8, 11, 18,  6,  8]),\n",
       "                                        &#x27;n_estimators&#x27;: array([39, 39, 12, 20, 27, 35, 41, 44, 37, 39])},\n",
       "                   scoring=&#x27;accuracy&#x27;)</pre></div></div></div><div class=\"sk-parallel\"><div class=\"sk-parallel-item\"><div class=\"sk-item\"><div class=\"sk-label-container\"><div class=\"sk-label sk-toggleable\"><input class=\"sk-toggleable__control sk-hidden--visually\" id=\"sk-estimator-id-3\" type=\"checkbox\" ><label for=\"sk-estimator-id-3\" class=\"sk-toggleable__label sk-toggleable__label-arrow\">estimator: LGBMClassifier</label><div class=\"sk-toggleable__content\"><pre>LGBMClassifier(num_class=8, objective=&#x27;multiclass&#x27;, random_state=42)</pre></div></div></div><div class=\"sk-serial\"><div class=\"sk-item\"><div class=\"sk-estimator sk-toggleable\"><input class=\"sk-toggleable__control sk-hidden--visually\" id=\"sk-estimator-id-4\" type=\"checkbox\" ><label for=\"sk-estimator-id-4\" class=\"sk-toggleable__label sk-toggleable__label-arrow\">LGBMClassifier</label><div class=\"sk-toggleable__content\"><pre>LGBMClassifier(num_class=8, objective=&#x27;multiclass&#x27;, random_state=42)</pre></div></div></div></div></div></div></div></div></div></div>"
      ],
      "text/plain": [
       "RandomizedSearchCV(cv=5,\n",
       "                   estimator=LGBMClassifier(num_class=8, objective='multiclass',\n",
       "                                            random_state=42),\n",
       "                   param_distributions={'learning_rate': array([0.12705748, 0.1619895 , 0.11360597, 0.02816598, 0.04930031,\n",
       "       0.08390758, 0.09688895, 0.19666677, 0.05512685, 0.05266037]),\n",
       "                                        'max_depth': array([ 8, 11, 18,  6,  8]),\n",
       "                                        'n_estimators': array([39, 39, 12, 20, 27, 35, 41, 44, 37, 39])},\n",
       "                   scoring='accuracy')"
      ]
     },
     "execution_count": 22,
     "metadata": {},
     "output_type": "execute_result"
    }
   ],
   "source": [
    "from sklearn.model_selection import RandomizedSearchCV\n",
    "\n",
    "clf = RandomizedSearchCV(model, param_distributions=params, n_iter=10, cv=5, scoring='accuracy')\n",
    "clf.fit(X_train, y_train)"
   ]
  },
  {
   "cell_type": "code",
   "execution_count": 23,
   "id": "566ce15b",
   "metadata": {},
   "outputs": [
    {
     "data": {
      "text/html": [
       "<style>#sk-container-id-3 {color: black;background-color: white;}#sk-container-id-3 pre{padding: 0;}#sk-container-id-3 div.sk-toggleable {background-color: white;}#sk-container-id-3 label.sk-toggleable__label {cursor: pointer;display: block;width: 100%;margin-bottom: 0;padding: 0.3em;box-sizing: border-box;text-align: center;}#sk-container-id-3 label.sk-toggleable__label-arrow:before {content: \"▸\";float: left;margin-right: 0.25em;color: #696969;}#sk-container-id-3 label.sk-toggleable__label-arrow:hover:before {color: black;}#sk-container-id-3 div.sk-estimator:hover label.sk-toggleable__label-arrow:before {color: black;}#sk-container-id-3 div.sk-toggleable__content {max-height: 0;max-width: 0;overflow: hidden;text-align: left;background-color: #f0f8ff;}#sk-container-id-3 div.sk-toggleable__content pre {margin: 0.2em;color: black;border-radius: 0.25em;background-color: #f0f8ff;}#sk-container-id-3 input.sk-toggleable__control:checked~div.sk-toggleable__content {max-height: 200px;max-width: 100%;overflow: auto;}#sk-container-id-3 input.sk-toggleable__control:checked~label.sk-toggleable__label-arrow:before {content: \"▾\";}#sk-container-id-3 div.sk-estimator input.sk-toggleable__control:checked~label.sk-toggleable__label {background-color: #d4ebff;}#sk-container-id-3 div.sk-label input.sk-toggleable__control:checked~label.sk-toggleable__label {background-color: #d4ebff;}#sk-container-id-3 input.sk-hidden--visually {border: 0;clip: rect(1px 1px 1px 1px);clip: rect(1px, 1px, 1px, 1px);height: 1px;margin: -1px;overflow: hidden;padding: 0;position: absolute;width: 1px;}#sk-container-id-3 div.sk-estimator {font-family: monospace;background-color: #f0f8ff;border: 1px dotted black;border-radius: 0.25em;box-sizing: border-box;margin-bottom: 0.5em;}#sk-container-id-3 div.sk-estimator:hover {background-color: #d4ebff;}#sk-container-id-3 div.sk-parallel-item::after {content: \"\";width: 100%;border-bottom: 1px solid gray;flex-grow: 1;}#sk-container-id-3 div.sk-label:hover label.sk-toggleable__label {background-color: #d4ebff;}#sk-container-id-3 div.sk-serial::before {content: \"\";position: absolute;border-left: 1px solid gray;box-sizing: border-box;top: 0;bottom: 0;left: 50%;z-index: 0;}#sk-container-id-3 div.sk-serial {display: flex;flex-direction: column;align-items: center;background-color: white;padding-right: 0.2em;padding-left: 0.2em;position: relative;}#sk-container-id-3 div.sk-item {position: relative;z-index: 1;}#sk-container-id-3 div.sk-parallel {display: flex;align-items: stretch;justify-content: center;background-color: white;position: relative;}#sk-container-id-3 div.sk-item::before, #sk-container-id-3 div.sk-parallel-item::before {content: \"\";position: absolute;border-left: 1px solid gray;box-sizing: border-box;top: 0;bottom: 0;left: 50%;z-index: -1;}#sk-container-id-3 div.sk-parallel-item {display: flex;flex-direction: column;z-index: 1;position: relative;background-color: white;}#sk-container-id-3 div.sk-parallel-item:first-child::after {align-self: flex-end;width: 50%;}#sk-container-id-3 div.sk-parallel-item:last-child::after {align-self: flex-start;width: 50%;}#sk-container-id-3 div.sk-parallel-item:only-child::after {width: 0;}#sk-container-id-3 div.sk-dashed-wrapped {border: 1px dashed gray;margin: 0 0.4em 0.5em 0.4em;box-sizing: border-box;padding-bottom: 0.4em;background-color: white;}#sk-container-id-3 div.sk-label label {font-family: monospace;font-weight: bold;display: inline-block;line-height: 1.2em;}#sk-container-id-3 div.sk-label-container {text-align: center;}#sk-container-id-3 div.sk-container {/* jupyter's `normalize.less` sets `[hidden] { display: none; }` but bootstrap.min.css set `[hidden] { display: none !important; }` so we also need the `!important` here to be able to override the default hidden behavior on the sphinx rendered scikit-learn.org. See: https://github.com/scikit-learn/scikit-learn/issues/21755 */display: inline-block !important;position: relative;}#sk-container-id-3 div.sk-text-repr-fallback {display: none;}</style><div id=\"sk-container-id-3\" class=\"sk-top-container\"><div class=\"sk-text-repr-fallback\"><pre>LGBMClassifier(learning_rate=0.09688895218784283, max_depth=8, n_estimators=44,\n",
       "               num_class=8, objective=&#x27;multiclass&#x27;, random_state=42)</pre><b>In a Jupyter environment, please rerun this cell to show the HTML representation or trust the notebook. <br />On GitHub, the HTML representation is unable to render, please try loading this page with nbviewer.org.</b></div><div class=\"sk-container\" hidden><div class=\"sk-item\"><div class=\"sk-estimator sk-toggleable\"><input class=\"sk-toggleable__control sk-hidden--visually\" id=\"sk-estimator-id-5\" type=\"checkbox\" checked><label for=\"sk-estimator-id-5\" class=\"sk-toggleable__label sk-toggleable__label-arrow\">LGBMClassifier</label><div class=\"sk-toggleable__content\"><pre>LGBMClassifier(learning_rate=0.09688895218784283, max_depth=8, n_estimators=44,\n",
       "               num_class=8, objective=&#x27;multiclass&#x27;, random_state=42)</pre></div></div></div></div></div>"
      ],
      "text/plain": [
       "LGBMClassifier(learning_rate=0.09688895218784283, max_depth=8, n_estimators=44,\n",
       "               num_class=8, objective='multiclass', random_state=42)"
      ]
     },
     "execution_count": 23,
     "metadata": {},
     "output_type": "execute_result"
    }
   ],
   "source": [
    "best_model = clf.best_estimator_\n",
    "best_model"
   ]
  },
  {
   "cell_type": "code",
   "execution_count": 24,
   "id": "1672b910",
   "metadata": {},
   "outputs": [
    {
     "data": {
      "text/plain": [
       "0.13587500000000002"
      ]
     },
     "execution_count": 24,
     "metadata": {},
     "output_type": "execute_result"
    }
   ],
   "source": [
    "clf.best_score_"
   ]
  },
  {
   "cell_type": "code",
   "execution_count": 25,
   "id": "b2ec321a",
   "metadata": {},
   "outputs": [
    {
     "data": {
      "text/plain": [
       "{'n_estimators': 44, 'max_depth': 8, 'learning_rate': 0.09688895218784283}"
      ]
     },
     "execution_count": 25,
     "metadata": {},
     "output_type": "execute_result"
    }
   ],
   "source": [
    "clf.best_params_"
   ]
  },
  {
   "cell_type": "code",
   "execution_count": 26,
   "id": "ec3263d0",
   "metadata": {},
   "outputs": [],
   "source": [
    "y_pred = clf.predict(X_test)"
   ]
  },
  {
   "cell_type": "code",
   "execution_count": 27,
   "id": "8d0eeea5",
   "metadata": {},
   "outputs": [
    {
     "data": {
      "text/plain": [
       "0.114"
      ]
     },
     "execution_count": 27,
     "metadata": {},
     "output_type": "execute_result"
    }
   ],
   "source": [
    "from sklearn.metrics import accuracy_score\n",
    "\n",
    "accuracy = accuracy_score(y_test, y_pred)\n",
    "accuracy"
   ]
  },
  {
   "cell_type": "code",
   "execution_count": 28,
   "id": "56169ca6",
   "metadata": {},
   "outputs": [
    {
     "data": {
      "text/plain": [
       "<Axes: >"
      ]
     },
     "execution_count": 28,
     "metadata": {},
     "output_type": "execute_result"
    },
    {
     "data": {
      "image/png": "[encoded data removed]",
      "text/plain": [
       "<Figure size 640x480 with 1 Axes>"
      ]
     },
     "metadata": {},
     "output_type": "display_data"
    }
   ],
   "source": [
    "import koreanize_matplotlib\n",
    "\n",
    "fi = pd.Series(clf.best_estimator_.feature_importances_)\n",
    "fi.index = clf.best_estimator_.feature_name_\n",
    "fi.nlargest(5).sort_values().plot.barh()"
   ]
  },
  {
   "cell_type": "markdown",
   "id": "6c06b949",
   "metadata": {},
   "source": [
    "모델 성능 높이기 위해서 해볼 것\n",
    "- 데이터 수 늘리기 -> 완료\n",
    "- 모델 바꾸기\n",
    "- 변수 추가 혹은 제거하기\n",
    "- 하이퍼파라미터 조정 -> automl pycaret\n",
    "- 위 선택지가 다 안 된다면.. card 데이터를 랜덤 말고 머신러닝 돌려서 넣어보기..\n",
    "\n",
    "모델 저장 후 새로운 데이터를 모델에 적용해서 결과 예측하기\n",
    "결과가 나오면 card 군집 중에서 그 사람 특성에 맞게 카드 순위 출력하기 + 유사도 반영 -> 일요일\n",
    "\n",
    "streamlit으로 웹 페이지 만들기 -> 일요일 밤~"
   ]
  },
  {
   "cell_type": "code",
   "execution_count": 29,
   "id": "a072a1eb",
   "metadata": {},
   "outputs": [],
   "source": [
    "# 모델 저장\n",
    "import pickle\n",
    "with open('best_model.pickle','wb') as fw:\n",
    "    pickle.dump(clf, fw)"
   ]
  }
 ],
 "metadata": {
  "kernelspec": {
   "display_name": "Python 3 (ipykernel)",
   "language": "python",
   "name": "python3"
  },
  "language_info": {
   "codemirror_mode": {
    "name": "ipython",
    "version": 3
   },
   "file_extension": ".py",
   "mimetype": "text/x-python",
   "name": "python",
   "nbconvert_exporter": "python",
   "pygments_lexer": "ipython3",
   "version": "3.10.9"
  },
  "toc": {
   "base_numbering": 1,
   "nav_menu": {},
   "number_sections": true,
   "sideBar": true,
   "skip_h1_title": false,
   "title_cell": "Table of Contents",
   "title_sidebar": "Contents",
   "toc_cell": false,
   "toc_position": {},
   "toc_section_display": true,
   "toc_window_display": false
  }
 },
 "nbformat": 4,
 "nbformat_minor": 5
}
